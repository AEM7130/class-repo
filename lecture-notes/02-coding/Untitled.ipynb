{
 "cells": [
  {
   "cell_type": "code",
   "execution_count": 1,
   "id": "93a3b0d4",
   "metadata": {},
   "outputs": [
    {
     "name": "stdout",
     "output_type": "stream",
     "text": [
      "y = 1 > 2 = false\n"
     ]
    },
    {
     "data": {
      "text/plain": [
       "false"
      ]
     },
     "execution_count": 1,
     "metadata": {},
     "output_type": "execute_result"
    }
   ],
   "source": [
    "@show y = 1 > 2\n"
   ]
  },
  {
   "cell_type": "code",
   "execution_count": 2,
   "id": "dfce27d3",
   "metadata": {},
   "outputs": [
    {
     "data": {
      "text/plain": [
       "(5, 6)"
      ]
     },
     "execution_count": 2,
     "metadata": {},
     "output_type": "execute_result"
    }
   ],
   "source": [
    "a3 =5,6\n"
   ]
  },
  {
   "cell_type": "code",
   "execution_count": 3,
   "id": "3f11c1ce",
   "metadata": {},
   "outputs": [
    {
     "data": {
      "text/plain": [
       "(5, 6)"
      ]
     },
     "execution_count": 3,
     "metadata": {},
     "output_type": "execute_result"
    }
   ],
   "source": [
    "a3"
   ]
  },
  {
   "cell_type": "code",
   "execution_count": 4,
   "id": "f75dbcf4",
   "metadata": {},
   "outputs": [
    {
     "name": "stdout",
     "output_type": "stream",
     "text": [
      "1:6\n"
     ]
    }
   ],
   "source": [
    "println(1:6)"
   ]
  },
  {
   "cell_type": "code",
   "execution_count": 5,
   "id": "885ceb24",
   "metadata": {},
   "outputs": [
    {
     "name": "stdout",
     "output_type": "stream",
     "text": [
      "1\n",
      "2\n",
      "3\n",
      "4\n",
      "5\n",
      "6\n"
     ]
    }
   ],
   "source": [
    "for i in 1:6\n",
    "    println(i)\n",
    "end\n"
   ]
  },
  {
   "cell_type": "code",
   "execution_count": 7,
   "id": "4b817022",
   "metadata": {},
   "outputs": [
    {
     "name": "stdout",
     "output_type": "stream",
     "text": [
      "1\n",
      "3\n",
      "5\n",
      "7\n",
      "9\n"
     ]
    }
   ],
   "source": [
    "for i in 1:2:10\n",
    "    println(i)\n",
    "end\n"
   ]
  },
  {
   "cell_type": "code",
   "execution_count": 8,
   "id": "49f41d44",
   "metadata": {},
   "outputs": [
    {
     "data": {
      "text/plain": [
       "6-element Vector{Int64}:\n",
       "   1\n",
       "   9\n",
       "  25\n",
       "  49\n",
       "  81\n",
       " 121"
      ]
     },
     "execution_count": 8,
     "metadata": {},
     "output_type": "execute_result"
    }
   ],
   "source": [
    "(1:2:11).^2"
   ]
  },
  {
   "cell_type": "code",
   "execution_count": 9,
   "id": "c4ef34d5",
   "metadata": {},
   "outputs": [],
   "source": [
    " h(y,z) = y^2 + sin(z);   # function to evaluate\n",
    " y = 1:2:1e6+1;           # input y\n",
    " z = rand(length(y)); "
   ]
  },
  {
   "cell_type": "code",
   "execution_count": 10,
   "id": "c7becebb",
   "metadata": {},
   "outputs": [
    {
     "data": {
      "text/plain": [
       "1.9092974268256817"
      ]
     },
     "execution_count": 10,
     "metadata": {},
     "output_type": "execute_result"
    }
   ],
   "source": [
    "h(1,2)"
   ]
  },
  {
   "cell_type": "code",
   "execution_count": 11,
   "id": "08cd90e7",
   "metadata": {},
   "outputs": [
    {
     "name": "stdout",
     "output_type": "stream",
     "text": [
      "  0.151664 seconds (285.92 k allocations: 18.213 MiB, 92.86% compilation time)\n"
     ]
    },
    {
     "data": {
      "text/plain": [
       "500001-element Vector{Float64}:\n",
       "   1.125247084656869\n",
       "   9.751231142467883\n",
       "  25.38784458154752\n",
       "  49.59415392882632\n",
       "  81.30899124358591\n",
       " 121.56960281615633\n",
       " 169.72423622061547\n",
       " 225.75578711356158\n",
       " 289.1127528156994\n",
       " 361.0888966895892\n",
       " 441.6235780020115\n",
       " 529.7686828372779\n",
       " 625.5617609833756\n",
       "   ⋮\n",
       "   9.99958000441444e11\n",
       "   9.999620003610679e11\n",
       "   9.999660002893474e11\n",
       "   9.999700002258112e11\n",
       "   9.999740001698406e11\n",
       "   9.999780001213235e11\n",
       "   9.999820000817244e11\n",
       "   9.999860000494435e11\n",
       "   9.999900000252263e11\n",
       "   9.99994000009191e11\n",
       "   9.999980000017976e11\n",
       "   1.0000020000011285e12"
      ]
     },
     "execution_count": 11,
     "metadata": {},
     "output_type": "execute_result"
    }
   ],
   "source": [
    "@time out_1 = h.(y,z)"
   ]
  },
  {
   "cell_type": "code",
   "execution_count": 12,
   "id": "221e70c8",
   "metadata": {},
   "outputs": [
    {
     "ename": "LoadError",
     "evalue": "UndefVarError: out_2 not defined",
     "output_type": "error",
     "traceback": [
      "UndefVarError: out_2 not defined",
      "",
      "Stacktrace:",
      " [1] top-level scope",
      "   @ .\\timing.jl:262 [inlined]",
      " [2] top-level scope",
      "   @ .\\In[12]:0"
     ]
    }
   ],
   "source": [
    " @time out_2 .= h.(y,z)"
   ]
  },
  {
   "cell_type": "code",
   "execution_count": 16,
   "id": "9cfd6d3a",
   "metadata": {},
   "outputs": [
    {
     "name": "stdout",
     "output_type": "stream",
     "text": [
      "zz = 0\n",
      "zz = 1\n",
      "zz = 2\n",
      "zz = 3\n",
      "zz = 4\n",
      "zz = 5\n",
      "zz = 6\n",
      "zz = 7\n",
      "zz = 8\n",
      "zz = 9\n",
      "zz = 10\n"
     ]
    }
   ],
   "source": [
    " zz = 0;\n",
    "println(\"zz = $zz\")\n",
    " for ii in 1:10\n",
    "   zz = ii\n",
    "    println(\"zz = $zz\")\n",
    " end\n"
   ]
  },
  {
   "cell_type": "code",
   "execution_count": null,
   "id": "478302ab",
   "metadata": {},
   "outputs": [],
   "source": []
  }
 ],
 "metadata": {
  "kernelspec": {
   "display_name": "Julia 1.8.5",
   "language": "julia",
   "name": "julia-1.8"
  },
  "language_info": {
   "file_extension": ".jl",
   "mimetype": "application/julia",
   "name": "julia",
   "version": "1.8.5"
  }
 },
 "nbformat": 4,
 "nbformat_minor": 5
}
