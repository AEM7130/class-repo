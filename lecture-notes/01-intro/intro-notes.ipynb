{
 "cells": [
  {
   "cell_type": "markdown",
   "id": "6352e26b",
   "metadata": {},
   "source": [
    "# Class Notes for lecture 1\n"
   ]
  },
  {
   "cell_type": "code",
   "execution_count": 3,
   "id": "8e40eb6d",
   "metadata": {},
   "outputs": [
    {
     "data": {
      "text/plain": [
       "1.0000000000000001e-20"
      ]
     },
     "execution_count": 3,
     "metadata": {},
     "output_type": "execute_result"
    }
   ],
   "source": [
    "x = (10^(-20) + 1) - 1\n",
    "y = 10^(-20) + (1-1)"
   ]
  },
  {
   "cell_type": "code",
   "execution_count": 4,
   "id": "4461ad21",
   "metadata": {},
   "outputs": [
    {
     "name": "stdout",
     "output_type": "stream",
     "text": [
      "x = 0.0\n",
      "y = 1.0000000000000001e-20\n"
     ]
    }
   ],
   "source": [
    "println(\"x = $x\")\n",
    "println(\"y = $y\")"
   ]
  },
  {
   "cell_type": "code",
   "execution_count": 7,
   "id": "522656a8",
   "metadata": {},
   "outputs": [
    {
     "name": "stdout",
     "output_type": "stream",
     "text": [
      "100000.2 - 100000.1 is: 0.09999999999126885\n"
     ]
    }
   ],
   "source": [
    "println(\"100000.2 - 100000.1 is: $(100000.2 - 100000.1)\")"
   ]
  },
  {
   "cell_type": "markdown",
   "id": "89b8dd81",
   "metadata": {},
   "source": [
    "The idea here is that sometimes arithmetic with numbers of different magnitudes can be wrong. In addition, some numbers cannot be represented on a computer perfectly. \n"
   ]
  },
  {
   "cell_type": "markdown",
   "id": "e5a9e771",
   "metadata": {},
   "source": [
    "The next important mathematical thing is derivative. The lecture slides talk about some methods to do derivative: forward differencing, central differencing,... In general, central differencing is more accurate but needs more calculation. In Julia, we can use some packages:\n",
    "\n"
   ]
  },
  {
   "cell_type": "code",
   "execution_count": 14,
   "id": "61d328e8",
   "metadata": {},
   "outputs": [
    {
     "name": "stdout",
     "output_type": "stream",
     "text": [
      "ff'(x) at [2 3 4] is: [4 6 8]\n"
     ]
    }
   ],
   "source": [
    "ff(x) = x^2\n",
    "x = [2 3 4]\n",
    "using ForwardDiff\n",
    "g(f,x) = ForwardDiff.derivative(f,x); # g = dff/dx\n",
    "println(\"ff'(x) at $(x) is: $(g.(ff,x))\") # display gradient value"
   ]
  },
  {
   "cell_type": "markdown",
   "id": "b62775e6",
   "metadata": {},
   "source": [
    "For integration, the most popular method is Monte Carlo integration. More \"sophisticated\" ways includes quadrature rule or Simpson's rule. Quadrature rule can also be thought of as midpoint rule: essentially break a function into a bunch of rectangles. \n"
   ]
  },
  {
   "cell_type": "code",
   "execution_count": null,
   "id": "e96244b1",
   "metadata": {},
   "outputs": [],
   "source": []
  }
 ],
 "metadata": {
  "kernelspec": {
   "display_name": "Julia 1.8.5",
   "language": "julia",
   "name": "julia-1.8"
  },
  "language_info": {
   "file_extension": ".jl",
   "mimetype": "application/julia",
   "name": "julia",
   "version": "1.8.5"
  }
 },
 "nbformat": 4,
 "nbformat_minor": 5
}
