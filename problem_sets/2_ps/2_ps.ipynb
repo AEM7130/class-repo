{
 "cells": [
  {
   "cell_type": "markdown",
   "metadata": {},
   "source": [
    "# Homework 2: Due March 1 11:59PM\n",
    "## Link to generate the homework repository: https://classroom.github.com/g/JloKYCim\n",
    "Make sure your code is well-commented, separated into different blocks in a smart way, and executed before your push it to the repo."
   ]
  },
  {
   "cell_type": "markdown",
   "metadata": {},
   "source": [
    "# Problem 1:  Newton’s method (rootfinding)\n",
    "\n",
    "Consider a Cournot duopoly where inverse demand is given by $P(q) = q^{-1/\\eta}$, and the firm cost functions are $C_1(q_1) = 0.5 c_1 q_1^2, C_2(q_2) = 0.5 c_2 q^2_2$. \n",
    "\n",
    "1. Write your own Newton's method solver for this general problem: `cournot_newton(eta, c1, c2, initial_guess, tolerance)`.\n",
    "\n",
    "Hint: think about the first-order conditions and best response functions.\n",
    "\n",
    "2. Solve for the equilibrium outcome using Newton's method for $\\eta = 1.6, c_1 = .15, c_2 = 0.2$."
   ]
  },
  {
   "cell_type": "markdown",
   "metadata": {},
   "source": [
    "# Problem 2: Using optimization packages\n",
    "\n",
    "Suppose a consumer has the following CES utility:\n",
    "$$u(C_1, C_2) = (\\kappa C_1^{(\\eta - 1)/\\eta} + (1-\\kappa) C_2^{(\\eta - 1)/\\eta} ) ^{\\eta/(\\eta-1)}$$\n",
    "and faces a budget of\n",
    "$$ p_1 C_1 + p_2 C_2 = W$$\n",
    "\n",
    "1. Recast the problem as an unconstrained utility maximization problem.\n",
    "2. Use the `Optim` or `JuMP` package and write a program   \n",
    "`utility_maximizer(kappa, eta, p1, p2, w, initial_guess, solver)` to solve this utility maximization problem using one of the following solvers\n",
    "    - Nelder-Mead\n",
    "    - Newton\n",
    "    - Conjugate gradient\n",
    "    \n",
    "Feel free to use the default settings (tolerances, etc) for the optimization package or change them.\n",
    "3. Choose a set of parameters and solve it analytically. Also solve it numerically with the same set of parameters and report the algorithm results (e.g. the output shown [here](https://julianlsolvers.github.io/Optim.jl/stable/#algo/cg/))."
   ]
  }
 ],
 "metadata": {
  "kernelspec": {
   "display_name": "Julia 1.0.3",
   "language": "julia",
   "name": "julia-1.0"
  },
  "language_info": {
   "file_extension": ".jl",
   "mimetype": "application/julia",
   "name": "julia",
   "version": "1.0.3"
  },
  "varInspector": {
   "cols": {
    "lenName": 16,
    "lenType": 16,
    "lenVar": 40
   },
   "kernels_config": {
    "python": {
     "delete_cmd_postfix": "",
     "delete_cmd_prefix": "del ",
     "library": "var_list.py",
     "varRefreshCmd": "print(var_dic_list())"
    },
    "r": {
     "delete_cmd_postfix": ") ",
     "delete_cmd_prefix": "rm(",
     "library": "var_list.r",
     "varRefreshCmd": "cat(var_dic_list()) "
    }
   },
   "types_to_exclude": [
    "module",
    "function",
    "builtin_function_or_method",
    "instance",
    "_Feature"
   ],
   "window_display": false
  }
 },
 "nbformat": 4,
 "nbformat_minor": 2
}
