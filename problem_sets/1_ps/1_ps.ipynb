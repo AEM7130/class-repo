{
 "cells": [
  {
   "cell_type": "markdown",
   "metadata": {},
   "source": [
    "# Homework 1: Due February 13 at 3:00PM.\n",
    "Fork/clone this repo and then solve the problems in this notebook. Make sure your code is well-commented and reproducible. Unless stated in the problem, you can (and may need to) use some Google searching to find how to efficiently code parts of your answers."
   ]
  },
  {
   "cell_type": "markdown",
   "metadata": {},
   "source": [
    "## Problem 1: Integration and functional programming\n",
    "A profit-maximizing firm faces a demand curve given by: $P(q) = a-bq$ where $b\\sim logN(\\mu,\\sigma)$ and has a cost function given by $C(q) = cq$. \n",
    "\n",
    "1. Write a function called `profit_max_q(a, c, mu, sigma, method, n)` that returns the numerical optimal quantity given a set of inputs $(a, c, \\mu, \\sigma, method, n)$, where `method` is a string that takes on a value of `\"mc\"` or `\"quad\"` and determines whether you integrate using Monte Carlo or quadrature methods, and `n` is the number of Monte Carlo draws or quadrature nodes.\n",
    "2. Choose a set of values $(a, c, \\mu, \\sigma)$ and use `profit_max_q` to solve the problem for both approaches to integration. Use the `CompEcon` package to implement the quadrature routine.\n",
    "3. Make sure your code is type-stable by using the code introspection macros (e.g. `@code_llvm, @code_warntype, @trace`)"
   ]
  },
  {
   "cell_type": "markdown",
   "metadata": {
    "slideshow": {
     "slide_type": ""
    }
   },
   "source": [
    "## Problem 2: Monte Carlo Integration\n",
    "Approximate $\\pi$ using Monte Carlo integration. You may only use `rand()` to generate random numbers. Here is how to think about approximating $\\pi$:\n",
    "1. Suppose $U$ is a two dimensional random variable on the unit square $[0,1]\\times[0,1]$. The probability that $U$ is in a subset $B$ of $(0,1)\\times(0,1)$ is equal to the area of $B$.\n",
    "2. If $u_1,...,u_n$ are iid draws from $U$, then as $n$ grows (by an LLN type argument), the fraction that falls inside $B$ is the probability of another iid draw coming from $B$.\n",
    "3. The area of a circle is given by $\\pi \\times radius^2$."
   ]
  },
  {
   "cell_type": "markdown",
   "metadata": {},
   "source": [
    "## Problem 3: Shell scripting\n",
    "\n",
    "For this problem use the `adult.data` dataset, a commonly used one for machine learning purposes.\n",
    "\n",
    "Write a shell script to do the following. Parts 2 and 3 may take a while to run so test it out on a smaller size.\n",
    "\n",
    "1. Add `#!/bin/sh` to the first line of your script. This is called a **shebang** and lets the machine know the file is executable.\n",
    "\n",
    "2. In the current directory, create 5000 files named `file-1.txt, file-2.txt,...,file-5000.txt`.\n",
    "\n",
    "3. Write the data in `adult.data` to each file row-by-row so that row 1 of `adult.data` is in `file-1.txt`, row 2 is in `file-2.txt`, and so on until 5000.\n",
    "\n",
    "4. Rename all the files so that the dash `-` is replaced by an underscore `_`.\n",
    "\n",
    "5. Append all the data from `file_1.txt,...,file_5000.txt` into a new file called `new_data_set.csv`.\n",
    "\n",
    "6. Count how many males are in the new dataset, write the number to a file `output.txt`.\n",
    "\n",
    "7. Use the `cut` command to count how many unique entries their are in the profession column (column 7), append the number to `output.txt`.\n",
    "\n",
    "8. Remove all files you created except for `output.txt`."
   ]
  }
 ],
 "metadata": {
  "kernelspec": {
   "display_name": "Julia 1.0.3",
   "language": "julia",
   "name": "julia-1.0"
  },
  "language_info": {
   "file_extension": ".jl",
   "mimetype": "application/julia",
   "name": "julia",
   "version": "1.0.3"
  },
  "varInspector": {
   "cols": {
    "lenName": 16,
    "lenType": 16,
    "lenVar": 40
   },
   "kernels_config": {
    "python": {
     "delete_cmd_postfix": "",
     "delete_cmd_prefix": "del ",
     "library": "var_list.py",
     "varRefreshCmd": "print(var_dic_list())"
    },
    "r": {
     "delete_cmd_postfix": ") ",
     "delete_cmd_prefix": "rm(",
     "library": "var_list.r",
     "varRefreshCmd": "cat(var_dic_list()) "
    }
   },
   "types_to_exclude": [
    "module",
    "function",
    "builtin_function_or_method",
    "instance",
    "_Feature"
   ],
   "window_display": false
  }
 },
 "nbformat": 4,
 "nbformat_minor": 2
}
