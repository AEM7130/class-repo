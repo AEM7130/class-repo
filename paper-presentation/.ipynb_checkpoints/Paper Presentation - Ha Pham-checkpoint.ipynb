{
 "cells": [
  {
   "cell_type": "markdown",
   "id": "c5ba3095",
   "metadata": {
    "slideshow": {
     "slide_type": "slide"
    }
   },
   "source": [
    "# A Dynamic Discrete Choice Model with Harold Zurcher  in Rust (2077)\n",
    "## Presented by Ha Pham\n",
    "### AEM 7130 Spring 2023"
   ]
  },
  {
   "cell_type": "markdown",
   "id": "27b40d7f",
   "metadata": {
    "slideshow": {
     "slide_type": "slide"
    }
   },
   "source": [
    "# Introduction\n",
    "\n",
    "- One of the most propular models when it comes to modeling dynamic decisions\n",
    "\n",
    "\n"
   ]
  },
  {
   "cell_type": "markdown",
   "id": "244cf629",
   "metadata": {
    "slideshow": {
     "slide_type": "fragment"
    }
   },
   "source": [
    "- Widely applied in different fields including labor, IO,..."
   ]
  },
  {
   "cell_type": "markdown",
   "id": "c6cc4ba8",
   "metadata": {
    "slideshow": {
     "slide_type": "fragment"
    }
   },
   "source": [
    "- Introducing some key assumptions that leads to clean estimation routine"
   ]
  },
  {
   "cell_type": "markdown",
   "id": "b16a1e09",
   "metadata": {
    "slideshow": {
     "slide_type": "fragment"
    }
   },
   "source": [
    "- Weakness: cannot be applied in dynamic games (kinda)"
   ]
  },
  {
   "cell_type": "markdown",
   "id": "a76eaf05",
   "metadata": {
    "slideshow": {
     "slide_type": "slide"
    }
   },
   "source": [
    "# Overview\n",
    "- Model Setups\n",
    "- Applications\n",
    "- Code in Julia"
   ]
  },
  {
   "cell_type": "markdown",
   "id": "1b2597c0",
   "metadata": {
    "slideshow": {
     "slide_type": "slide"
    }
   },
   "source": [
    "# Model Background\n",
    "\n",
    "- Harold Zurcher is responsible for changing bus engines for Madison Metro in Madison, WI\n",
    "\n",
    "\n",
    " \n",
    "\n"
   ]
  },
  {
   "cell_type": "markdown",
   "id": "fb4e03e8",
   "metadata": {
    "slideshow": {
     "slide_type": "fragment"
    }
   },
   "source": [
    "- Bus engines inherently get older, which makes them more costly to maintain. "
   ]
  },
  {
   "cell_type": "markdown",
   "id": "fecb386f",
   "metadata": {
    "slideshow": {
     "slide_type": "fragment"
    }
   },
   "source": [
    "- Replacing the engine require an upfront fixed cost and \"reset\" the age"
   ]
  },
  {
   "cell_type": "markdown",
   "id": "e60ce245",
   "metadata": {
    "slideshow": {
     "slide_type": "fragment"
    }
   },
   "source": [
    "- This forms a dynamic trade-off: paying the fixed cost today for cheaper maintainance tomorrow or saving the fixed cost "
   ]
  },
  {
   "cell_type": "markdown",
   "id": "ade64006",
   "metadata": {
    "slideshow": {
     "slide_type": "slide"
    }
   },
   "source": [
    "# Model Setup\n",
    "- States: "
   ]
  },
  {
   "cell_type": "markdown",
   "id": "211af3ef",
   "metadata": {
    "slideshow": {
     "slide_type": "fragment"
    }
   },
   "source": [
    "- Actions"
   ]
  },
  {
   "cell_type": "markdown",
   "id": "6d5bd4bf",
   "metadata": {
    "slideshow": {
     "slide_type": "fragment"
    }
   },
   "source": [
    "- Markovian State Transition "
   ]
  },
  {
   "cell_type": "markdown",
   "id": "d265e6cc",
   "metadata": {
    "slideshow": {
     "slide_type": "slide"
    }
   },
   "source": [
    "# Model Timing \n",
    "1. States are observed \n",
    "2. Shocks are observed by the agent, econometrician knows the distribution\n",
    "3. Choices are made (and observed) to maximize utility\n",
    "4. States evolves according to the transition rule\n",
    "5. Next period"
   ]
  },
  {
   "cell_type": "markdown",
   "id": "1f50b0ac",
   "metadata": {
    "slideshow": {
     "slide_type": "slide"
    }
   },
   "source": [
    "# Period Payoff\n"
   ]
  },
  {
   "cell_type": "markdown",
   "id": "c948624f",
   "metadata": {
    "slideshow": {
     "slide_type": "slide"
    }
   },
   "source": [
    "# Decision Problem\n",
    "Write down the Bellman equation"
   ]
  },
  {
   "cell_type": "markdown",
   "id": "47f76366",
   "metadata": {
    "slideshow": {
     "slide_type": "slide"
    }
   },
   "source": [
    "# Assumptions"
   ]
  },
  {
   "cell_type": "markdown",
   "id": "a2202e60",
   "metadata": {},
   "source": [
    "# Choice-specific Value Functions\n",
    "This is why the assumptions are lit"
   ]
  },
  {
   "cell_type": "markdown",
   "id": "fdb623e8",
   "metadata": {
    "slideshow": {
     "slide_type": "slide"
    }
   },
   "source": [
    "# Applications\n",
    "\n",
    "- IO:\n",
    "  - Investment Decision: Rust (1987), \n",
    "  - Innovation: Igami ()\n",
    " "
   ]
  },
  {
   "cell_type": "markdown",
   "id": "b0a4f696",
   "metadata": {
    "slideshow": {
     "slide_type": "subslide"
    }
   },
   "source": [
    "- Energy & Environmental:\n",
    "  - Eiseinberg ()\n",
    "  - Cullen (2013)"
   ]
  },
  {
   "cell_type": "markdown",
   "id": "bd9fd215",
   "metadata": {
    "slideshow": {
     "slide_type": "subslide"
    }
   },
   "source": [
    "- Labor:\n",
    "  - Rust ...\n",
    "  - ...."
   ]
  },
  {
   "cell_type": "markdown",
   "id": "800ef2cc",
   "metadata": {
    "slideshow": {
     "slide_type": "slide"
    }
   },
   "source": [
    "# Implementing the model in Julia\n",
    "I want to explicitly show how this model can be estimated in Julia. I will skip certain parts due to time limit."
   ]
  },
  {
   "cell_type": "code",
   "execution_count": null,
   "id": "ef092e71",
   "metadata": {},
   "outputs": [],
   "source": []
  }
 ],
 "metadata": {
  "celltoolbar": "Slideshow",
  "kernelspec": {
   "display_name": "Julia 1.8.5",
   "language": "julia",
   "name": "julia-1.8"
  },
  "language_info": {
   "file_extension": ".jl",
   "mimetype": "application/julia",
   "name": "julia",
   "version": "1.8.5"
  }
 },
 "nbformat": 4,
 "nbformat_minor": 5
}
