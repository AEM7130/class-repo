{
 "cells": [
  {
   "cell_type": "markdown",
   "metadata": {},
   "source": [
    "# Homework 4: Due May 1 3:00PM\n",
    "## Link to generate the homework repository: https://classroom.github.com/g/34_zUSNB\n",
    "Make sure your code is well-commented, separated into different blocks in a smart way, and executed before your push it to the repo."
   ]
  },
  {
   "cell_type": "markdown",
   "metadata": {},
   "source": [
    "# Problem 1: Oil extraction\n",
    "\n",
    "You are a small oil extracting firm. You own an oil reservoir that contains $s_0 = 500$ barrels of oil at time 0, and $s_t$ denotes how much oil you have in your reservoir at time $t = 0,1,2,....$\n",
    "\n",
    "The cost of extracting oil is given by the function, $C(e_t) = e_t^2$ where $e_t$ is barrels of oil extracted at time $t$. The remaining oil in the reservoir is given by $s_{t+1} = s_t - e_t$. Extracted oil at time $t$ is sold immediately at a price of 30 dollars per barrel. We discount the future with a per-period discount factor $\\beta = 0.95$. We cannot leave a negative stock of oil in the ground and we cannot extract a negative amount of oil ($e_t \\geq 0$, $s_{t+1} \\geq 0$).\n",
    "\n",
    "1. Write out the extraction problem in Bellman form.\n",
    "2. Solve for the infinite horizon value function or policy function using a method of your choosing (hint: the initial condition tells you what your collocation domain should be).\n",
    "3. Simulate the model forward in time for 20 periods using an approximation of degree 3, 5 and 8. Plot the extraction and oil stock trajectories. \n",
    "4. Compute and plot the Euler equation error along the trajectories.\n",
    "5. Compute and plot the Euler equation error along the entire oil stock domain."
   ]
  }
 ],
 "metadata": {
  "kernelspec": {
   "display_name": "Julia 1.0.3",
   "language": "julia",
   "name": "julia-1.0"
  },
  "language_info": {
   "file_extension": ".jl",
   "mimetype": "application/julia",
   "name": "julia",
   "version": "1.0.3"
  },
  "varInspector": {
   "cols": {
    "lenName": 16,
    "lenType": 16,
    "lenVar": 40
   },
   "kernels_config": {
    "python": {
     "delete_cmd_postfix": "",
     "delete_cmd_prefix": "del ",
     "library": "var_list.py",
     "varRefreshCmd": "print(var_dic_list())"
    },
    "r": {
     "delete_cmd_postfix": ") ",
     "delete_cmd_prefix": "rm(",
     "library": "var_list.r",
     "varRefreshCmd": "cat(var_dic_list()) "
    }
   },
   "types_to_exclude": [
    "module",
    "function",
    "builtin_function_or_method",
    "instance",
    "_Feature"
   ],
   "window_display": false
  }
 },
 "nbformat": 4,
 "nbformat_minor": 2
}
