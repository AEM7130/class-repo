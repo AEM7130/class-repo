{
 "cells": [
  {
   "cell_type": "code",
   "execution_count": 1,
   "id": "0f2e7b4f",
   "metadata": {},
   "outputs": [
    {
     "data": {
      "text/plain": [
       "t1 (generic function with 1 method)"
      ]
     },
     "execution_count": 1,
     "metadata": {},
     "output_type": "execute_result"
    }
   ],
   "source": [
    "function t1(n)\n",
    "   s = 0\n",
    "   t = 1\n",
    "   for i in 1:n\n",
    "      s += s/i\n",
    "      t = div(t, i)\n",
    "   end\n",
    "   return t\n",
    " end"
   ]
  },
  {
   "cell_type": "code",
   "execution_count": 2,
   "id": "53a51646",
   "metadata": {},
   "outputs": [
    {
     "data": {
      "text/plain": [
       "t2 (generic function with 1 method)"
      ]
     },
     "execution_count": 2,
     "metadata": {},
     "output_type": "execute_result"
    }
   ],
   "source": [
    "function t2(n)\n",
    "   s  = 0.0\n",
    "   t = 1\n",
    "   for i in 1:n\n",
    "      s += s/i\n",
    "      t = div(t, i)\n",
    "   end\n",
    "   return t\n",
    " end"
   ]
  },
  {
   "cell_type": "code",
   "execution_count": 6,
   "id": "4ea72a6b",
   "metadata": {},
   "outputs": [
    {
     "name": "stdout",
     "output_type": "stream",
     "text": [
      "MethodInstance for t1(::Int64)\n",
      "  from t1(n) in Main at In[1]:1\n",
      "Arguments\n",
      "  #self#\u001b[36m::Core.Const(t1)\u001b[39m\n",
      "  n\u001b[36m::Int64\u001b[39m\n",
      "Locals\n",
      "  @_3\u001b[33m\u001b[1m::Union{Nothing, Tuple{Int64, Int64}}\u001b[22m\u001b[39m\n",
      "  t\u001b[36m::Int64\u001b[39m\n",
      "  s\u001b[91m\u001b[1m::Union{Float64, Int64}\u001b[22m\u001b[39m\n",
      "  i\u001b[36m::Int64\u001b[39m\n",
      "Body\u001b[36m::Int64\u001b[39m\n",
      "\u001b[90m1 ─\u001b[39m       (s = 0)\n",
      "\u001b[90m│  \u001b[39m       (t = 1)\n",
      "\u001b[90m│  \u001b[39m %3  = (1:n)\u001b[36m::Core.PartialStruct(UnitRange{Int64}, Any[Core.Const(1), Int64])\u001b[39m\n",
      "\u001b[90m│  \u001b[39m       (@_3 = Base.iterate(%3))\n",
      "\u001b[90m│  \u001b[39m %5  = (@_3 === nothing)\u001b[36m::Bool\u001b[39m\n",
      "\u001b[90m│  \u001b[39m %6  = Base.not_int(%5)\u001b[36m::Bool\u001b[39m\n",
      "\u001b[90m└──\u001b[39m       goto #4 if not %6\n",
      "\u001b[90m2 ┄\u001b[39m %8  = @_3\u001b[36m::Tuple{Int64, Int64}\u001b[39m\n",
      "\u001b[90m│  \u001b[39m       (i = Core.getfield(%8, 1))\n",
      "\u001b[90m│  \u001b[39m %10 = Core.getfield(%8, 2)\u001b[36m::Int64\u001b[39m\n",
      "\u001b[90m│  \u001b[39m %11 = s\u001b[91m\u001b[1m::Union{Float64, Int64}\u001b[22m\u001b[39m\n",
      "\u001b[90m│  \u001b[39m %12 = (s / i)\u001b[36m::Float64\u001b[39m\n",
      "\u001b[90m│  \u001b[39m       (s = %11 + %12)\n",
      "\u001b[90m│  \u001b[39m       (t = Main.div(t, i))\n",
      "\u001b[90m│  \u001b[39m       (@_3 = Base.iterate(%3, %10))\n",
      "\u001b[90m│  \u001b[39m %16 = (@_3 === nothing)\u001b[36m::Bool\u001b[39m\n",
      "\u001b[90m│  \u001b[39m %17 = Base.not_int(%16)\u001b[36m::Bool\u001b[39m\n",
      "\u001b[90m└──\u001b[39m       goto #4 if not %17\n",
      "\u001b[90m3 ─\u001b[39m       goto #2\n",
      "\u001b[90m4 ┄\u001b[39m       return t\n",
      "\n"
     ]
    }
   ],
   "source": [
    "n =10\n",
    "@code_warntype t1(n)\n"
   ]
  },
  {
   "cell_type": "code",
   "execution_count": 7,
   "id": "a117c176",
   "metadata": {},
   "outputs": [
    {
     "name": "stdout",
     "output_type": "stream",
     "text": [
      "MethodInstance for t2(::Int64)\n",
      "  from t2(n) in Main at In[2]:1\n",
      "Arguments\n",
      "  #self#\u001b[36m::Core.Const(t2)\u001b[39m\n",
      "  n\u001b[36m::Int64\u001b[39m\n",
      "Locals\n",
      "  @_3\u001b[33m\u001b[1m::Union{Nothing, Tuple{Int64, Int64}}\u001b[22m\u001b[39m\n",
      "  t\u001b[36m::Int64\u001b[39m\n",
      "  s\u001b[36m::Float64\u001b[39m\n",
      "  i\u001b[36m::Int64\u001b[39m\n",
      "Body\u001b[36m::Int64\u001b[39m\n",
      "\u001b[90m1 ─\u001b[39m       (s = 0.0)\n",
      "\u001b[90m│  \u001b[39m       (t = 1)\n",
      "\u001b[90m│  \u001b[39m %3  = (1:n)\u001b[36m::Core.PartialStruct(UnitRange{Int64}, Any[Core.Const(1), Int64])\u001b[39m\n",
      "\u001b[90m│  \u001b[39m       (@_3 = Base.iterate(%3))\n",
      "\u001b[90m│  \u001b[39m %5  = (@_3 === nothing)\u001b[36m::Bool\u001b[39m\n",
      "\u001b[90m│  \u001b[39m %6  = Base.not_int(%5)\u001b[36m::Bool\u001b[39m\n",
      "\u001b[90m└──\u001b[39m       goto #4 if not %6\n",
      "\u001b[90m2 ┄\u001b[39m %8  = @_3\u001b[36m::Tuple{Int64, Int64}\u001b[39m\n",
      "\u001b[90m│  \u001b[39m       (i = Core.getfield(%8, 1))\n",
      "\u001b[90m│  \u001b[39m %10 = Core.getfield(%8, 2)\u001b[36m::Int64\u001b[39m\n",
      "\u001b[90m│  \u001b[39m %11 = s\u001b[36m::Float64\u001b[39m\n",
      "\u001b[90m│  \u001b[39m %12 = (s / i)\u001b[36m::Float64\u001b[39m\n",
      "\u001b[90m│  \u001b[39m       (s = %11 + %12)\n",
      "\u001b[90m│  \u001b[39m       (t = Main.div(t, i))\n",
      "\u001b[90m│  \u001b[39m       (@_3 = Base.iterate(%3, %10))\n",
      "\u001b[90m│  \u001b[39m %16 = (@_3 === nothing)\u001b[36m::Bool\u001b[39m\n",
      "\u001b[90m│  \u001b[39m %17 = Base.not_int(%16)\u001b[36m::Bool\u001b[39m\n",
      "\u001b[90m└──\u001b[39m       goto #4 if not %17\n",
      "\u001b[90m3 ─\u001b[39m       goto #2\n",
      "\u001b[90m4 ┄\u001b[39m       return t\n",
      "\n"
     ]
    }
   ],
   "source": [
    "@code_warntype t2(n)\n"
   ]
  },
  {
   "cell_type": "code",
   "execution_count": 8,
   "id": "8569acef",
   "metadata": {},
   "outputs": [
    {
     "data": {
      "text/plain": [
       "0"
      ]
     },
     "execution_count": 8,
     "metadata": {},
     "output_type": "execute_result"
    }
   ],
   "source": [
    "t1(n)"
   ]
  },
  {
   "cell_type": "code",
   "execution_count": 9,
   "id": "534150c6",
   "metadata": {},
   "outputs": [
    {
     "name": "stdout",
     "output_type": "stream",
     "text": [
      "  0.000001 seconds\n"
     ]
    },
    {
     "data": {
      "text/plain": [
       "t1 (generic function with 1 method)"
      ]
     },
     "execution_count": 9,
     "metadata": {},
     "output_type": "execute_result"
    }
   ],
   "source": [
    "@time t1"
   ]
  },
  {
   "cell_type": "code",
   "execution_count": 10,
   "id": "7e843237",
   "metadata": {},
   "outputs": [
    {
     "name": "stdout",
     "output_type": "stream",
     "text": [
      "  0.000001 seconds\n"
     ]
    },
    {
     "data": {
      "text/plain": [
       "t2 (generic function with 1 method)"
      ]
     },
     "execution_count": 10,
     "metadata": {},
     "output_type": "execute_result"
    }
   ],
   "source": [
    "@time t2"
   ]
  },
  {
   "cell_type": "code",
   "execution_count": null,
   "id": "709432ae",
   "metadata": {},
   "outputs": [],
   "source": []
  }
 ],
 "metadata": {
  "kernelspec": {
   "display_name": "Julia 1.8.5",
   "language": "julia",
   "name": "julia-1.8"
  },
  "language_info": {
   "file_extension": ".jl",
   "mimetype": "application/julia",
   "name": "julia",
   "version": "1.8.5"
  }
 },
 "nbformat": 4,
 "nbformat_minor": 5
}
