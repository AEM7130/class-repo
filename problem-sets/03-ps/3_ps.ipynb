{
 "cells": [
  {
   "cell_type": "markdown",
   "metadata": {},
   "source": [
    "# Homework 3: Due March 22 11:00PM\n",
    "## Link to generate the homework repository: https://classroom.github.com/g/JHO5iO_C\n",
    "Make sure your code is well-commented."
   ]
  },
  {
   "cell_type": "markdown",
   "metadata": {},
   "source": [
    "# Problem 1:  Pseudo-spectral approximation\n",
    "\n",
    "Code up a function `project_cheb(f, n, lb, ub)` that takes in some **two-dimensional** function `f`, vector of degrees of approximation `n`, and vectors of lower bounds `lb` and upper bounds `ub`, and constructs a Chebyshev approximation on an grid of Chebyshev nodes.\n",
    "\n",
    "1. Using collocation methods, approximate `sin(x + y)` on $[0,2\\pi]\\times[0,2\\pi]$ using n=3, 5, and 10 degree approximations.\n",
    "2. Plot your approximation for n=10.\n",
    "3. Plot the relative error for n=5 in log10 units on an evenly spaced 100x100 grid in $[0,2\\pi]\\times[0,2\\pi]$ where relative error is given by\n",
    "$$\\text{relative error} = \\log_{10}\\left(\\left|\\frac{\\hat{\\sin}(x+y) - \\sin(x+y)}{\\sin(x+y)}\\right|\\right)$$\n",
    "where the hat indicates your approximation.\n",
    "\n",
    "log10 units often makes the plots more readable since errors can change size rapidly."
   ]
  },
  {
   "cell_type": "markdown",
   "metadata": {},
   "source": [
    "# Problem 2:  Complete Chebyshev basis\n",
    "\n",
    "Code up a function `project_lin_spline(f, knots)` that takes in some **two-dimensional** function `f`, and an $n\\times2$ grid of knots `knots`, and constructs a linear spline approximation on the grid.\n",
    "\n",
    "1. Using finite-element methods, approximate `sin(x + y)` on $[0,2\\pi]\\times[0,2\\pi]$ using n=3, 5, and 10 knots on each dimension (9, 25, 100 total).\n",
    "2. Plot your approximation for n=10.\n",
    "3. Plot the relative error for n=5 in log10 units on an evenly spaced 100x100 grid in $[0,2\\pi]\\times[0,2\\pi]$."
   ]
  }
 ],
 "metadata": {
  "kernelspec": {
   "display_name": "Julia 1.0.3",
   "language": "julia",
   "name": "julia-1.0"
  },
  "language_info": {
   "file_extension": ".jl",
   "mimetype": "application/julia",
   "name": "julia",
   "version": "1.0.3"
  },
  "varInspector": {
   "cols": {
    "lenName": 16,
    "lenType": 16,
    "lenVar": 40
   },
   "kernels_config": {
    "python": {
     "delete_cmd_postfix": "",
     "delete_cmd_prefix": "del ",
     "library": "var_list.py",
     "varRefreshCmd": "print(var_dic_list())"
    },
    "r": {
     "delete_cmd_postfix": ") ",
     "delete_cmd_prefix": "rm(",
     "library": "var_list.r",
     "varRefreshCmd": "cat(var_dic_list()) "
    }
   },
   "types_to_exclude": [
    "module",
    "function",
    "builtin_function_or_method",
    "instance",
    "_Feature"
   ],
   "window_display": false
  }
 },
 "nbformat": 4,
 "nbformat_minor": 2
}
